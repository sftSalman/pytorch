{
  "nbformat": 4,
  "nbformat_minor": 0,
  "metadata": {
    "colab": {
      "name": "pytorch_data_loader.ipynb",
      "provenance": [],
      "mount_file_id": "1-h6SPJKBEWKH0O_E_24B_a0QAqKwpnKP",
      "authorship_tag": "ABX9TyNCcL1CxF50DRaOSLWCljWN",
      "include_colab_link": true
    },
    "kernelspec": {
      "name": "python3",
      "display_name": "Python 3"
    },
    "language_info": {
      "name": "python"
    }
  },
  "cells": [
    {
      "cell_type": "markdown",
      "metadata": {
        "id": "view-in-github",
        "colab_type": "text"
      },
      "source": [
        "<a href=\"https://colab.research.google.com/github/sftSalman/pytorch/blob/main/pytorch_data_loader.ipynb\" target=\"_parent\"><img src=\"https://colab.research.google.com/assets/colab-badge.svg\" alt=\"Open In Colab\"/></a>"
      ]
    },
    {
      "cell_type": "code",
      "execution_count": 19,
      "metadata": {
        "id": "5B3vVoym2_eA"
      },
      "outputs": [],
      "source": [
        "import h5py\n",
        "import numpy as np\n",
        "import torch\n",
        "import cv2\n",
        "from torch.utils.data import DataLoader, TensorDataset\n",
        "\n",
        "\n",
        "def get_data(batch_size=64):\n",
        "    train_dataset = h5py.File('/content/drive/MyDrive/Deep Learning/pytorch/datasets/train_signs.h5', \"r\")\n",
        "    x_train = np.array(train_dataset[\"train_set_x\"][:]) # your train set features\n",
        "    x_train = np.transpose(x_train, (0, 3, 1, 2))\n",
        "    y_train = np.array(train_dataset[\"train_set_y\"][:]) # your train set labels\n",
        "    y_train = y_train.reshape((1, y_train.shape[0])).T\n",
        "\n",
        "    test_dataset = h5py.File('/content/drive/MyDrive/Deep Learning/pytorch/datasets/test_signs.h5', \"r\")\n",
        "    x_test = np.array(test_dataset[\"test_set_x\"][:]) # your test set features\n",
        "    x_test = np.transpose(x_test, (0, 3, 1, 2))\n",
        "    y_test = np.array(test_dataset[\"test_set_y\"][:]) # your test set labels\n",
        "    y_test = y_test.reshape((1, y_test.shape[0])).T\n",
        "\n",
        "    classes = np.array(test_dataset[\"list_classes\"][:]) # the list of classes\n",
        "\n",
        "    X_train_tensor = torch.tensor(x_train, dtype=torch.float)/255\n",
        "    Y_train_tensor = torch.tensor(y_train, dtype=torch.long)\n",
        "\n",
        "    X_test_tensor = torch.tensor(x_test, dtype=torch.float)/255\n",
        "    Y_test_tensor = torch.tensor(y_test, dtype=torch.long)\n",
        "\n",
        "    train_dataset = TensorDataset(X_train_tensor, Y_train_tensor)\n",
        "    test_dataset = TensorDataset(X_test_tensor, Y_test_tensor)\n",
        "\n",
        "    train_loader = DataLoader(train_dataset, batch_size=batch_size, shuffle=True)\n",
        "    test_loader = DataLoader(test_dataset, batch_size=batch_size, shuffle=True)\n",
        "\n",
        "\n",
        "    return train_dataset, test_dataset, train_loader, test_loader, classes\n",
        "\n",
        "\n",
        "def path_to_input(image_path, input_size, device):\n",
        "    img = cv2.imread(image_path)\n",
        "    img = cv2.resize(img, (input_size, input_size))                  #Resize\n",
        "    img = img[..., ::-1].transpose((2, 0, 1))                        #BGR -> RGB and HxWxC -> CxHxW\n",
        "    img = img[np.newaxis, ...] / 255.0                               #Add a channel at 0, thus making it a batch\n",
        "    img = torch.tensor(img, dtype=torch.float, device=device)        #Convert to Tensor\n",
        "    return img"
      ]
    },
    {
      "cell_type": "code",
      "source": [
        "#from cnn_utils import *\n",
        "import math\n",
        "import numpy as np\n",
        "import matplotlib.pyplot as plt\n",
        "import scipy\n",
        "import PIL\n",
        "from scipy import ndimage\n",
        "\n",
        "\n",
        "import torch\n",
        "import torch.nn as nn\n",
        "import torch.optim as optim\n",
        "import torch.nn.functional as F\n",
        "\n",
        "\n",
        "%load_ext autoreload\n",
        "%autoreload 2\n",
        "\n",
        "%matplotlib inline\n",
        "np.random.seed(1)"
      ],
      "metadata": {
        "colab": {
          "base_uri": "https://localhost:8080/"
        },
        "id": "qKVLcFsS8SHD",
        "outputId": "15f43360-88d1-46b1-f21a-11fab859dd48"
      },
      "execution_count": 20,
      "outputs": [
        {
          "output_type": "stream",
          "name": "stdout",
          "text": [
            "The autoreload extension is already loaded. To reload it, use:\n",
            "  %reload_ext autoreload\n"
          ]
        }
      ]
    },
    {
      "cell_type": "code",
      "source": [
        "train_dataset, test_dataset, train_loader, test_loader, classes = get_data(batch_size=64)"
      ],
      "metadata": {
        "id": "BGq76iay9_4P"
      },
      "execution_count": 21,
      "outputs": []
    },
    {
      "cell_type": "code",
      "source": [
        ""
      ],
      "metadata": {
        "id": "u72yiEZu-IQY"
      },
      "execution_count": null,
      "outputs": []
    }
  ]
}