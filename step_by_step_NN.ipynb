{
  "nbformat": 4,
  "nbformat_minor": 0,
  "metadata": {
    "colab": {
      "name": "step_by_step_NN.ipynb",
      "provenance": [],
      "authorship_tag": "ABX9TyNho2KsZmWXNSk3dduMekRS",
      "include_colab_link": true
    },
    "kernelspec": {
      "name": "python3",
      "display_name": "Python 3"
    },
    "language_info": {
      "name": "python"
    }
  },
  "cells": [
    {
      "cell_type": "markdown",
      "metadata": {
        "id": "view-in-github",
        "colab_type": "text"
      },
      "source": [
        "<a href=\"https://colab.research.google.com/github/sftSalman/pytorch/blob/main/step_by_step_NN.ipynb\" target=\"_parent\"><img src=\"https://colab.research.google.com/assets/colab-badge.svg\" alt=\"Open In Colab\"/></a>"
      ]
    },
    {
      "cell_type": "code",
      "execution_count": 1,
      "metadata": {
        "id": "Dstlav1mG5F7"
      },
      "outputs": [],
      "source": [
        "#@title  dnn_utils_v2\n",
        "\n",
        "import numpy as np\n",
        "\n",
        "def sigmoid(Z):\n",
        "    \"\"\"\n",
        "    Implements the sigmoid activation in numpy\n",
        "    \n",
        "    Arguments:\n",
        "    Z -- numpy array of any shape\n",
        "    \n",
        "    Returns:\n",
        "    A -- output of sigmoid(z), same shape as Z\n",
        "    cache -- returns Z as well, useful during backpropagation\n",
        "    \"\"\"\n",
        "    \n",
        "    A = 1/(1+np.exp(-Z))\n",
        "    cache = Z\n",
        "    \n",
        "    return A, cache\n",
        "\n",
        "def relu(Z):\n",
        "    \"\"\"\n",
        "    Implement the RELU function.\n",
        "\n",
        "    Arguments:\n",
        "    Z -- Output of the linear layer, of any shape\n",
        "\n",
        "    Returns:\n",
        "    A -- Post-activation parameter, of the same shape as Z\n",
        "    cache -- a python dictionary containing \"A\" ; stored for computing the backward pass efficiently\n",
        "    \"\"\"\n",
        "    \n",
        "    A = np.maximum(0,Z)\n",
        "    \n",
        "    assert(A.shape == Z.shape)\n",
        "    \n",
        "    cache = Z \n",
        "    return A, cache\n",
        "\n",
        "\n",
        "def relu_backward(dA, cache):\n",
        "    \"\"\"\n",
        "    Implement the backward propagation for a single RELU unit.\n",
        "\n",
        "    Arguments:\n",
        "    dA -- post-activation gradient, of any shape\n",
        "    cache -- 'Z' where we store for computing backward propagation efficiently\n",
        "\n",
        "    Returns:\n",
        "    dZ -- Gradient of the cost with respect to Z\n",
        "    \"\"\"\n",
        "    \n",
        "    Z = cache\n",
        "    dZ = np.array(dA, copy=True) # just converting dz to a correct object.\n",
        "    \n",
        "    # When z <= 0, you should set dz to 0 as well. \n",
        "    dZ[Z <= 0] = 0\n",
        "    \n",
        "    assert (dZ.shape == Z.shape)\n",
        "    \n",
        "    return dZ\n",
        "\n",
        "def sigmoid_backward(dA, cache):\n",
        "    \"\"\"\n",
        "    Implement the backward propagation for a single SIGMOID unit.\n",
        "\n",
        "    Arguments:\n",
        "    dA -- post-activation gradient, of any shape\n",
        "    cache -- 'Z' where we store for computing backward propagation efficiently\n",
        "\n",
        "    Returns:\n",
        "    dZ -- Gradient of the cost with respect to Z\n",
        "    \"\"\"\n",
        "    \n",
        "    Z = cache\n",
        "    \n",
        "    s = 1/(1+np.exp(-Z))\n",
        "    dZ = dA * s * (1-s)\n",
        "    \n",
        "    assert (dZ.shape == Z.shape)\n",
        "    \n",
        "    return dZ\n",
        "\n"
      ]
    },
    {
      "cell_type": "code",
      "source": [
        "#@title testCases_v3\n",
        "import numpy as np\n",
        "\n",
        "def linear_forward_test_case():\n",
        "    np.random.seed(1)\n",
        "    \"\"\"\n",
        "    X = np.array([[-1.02387576, 1.12397796],\n",
        " [-1.62328545, 0.64667545],\n",
        " [-1.74314104, -0.59664964]])\n",
        "    W = np.array([[ 0.74505627, 1.97611078, -1.24412333]])\n",
        "    b = np.array([[1]])\n",
        "    \"\"\"\n",
        "    A = np.random.randn(3,2)\n",
        "    W = np.random.randn(1,3)\n",
        "    b = np.random.randn(1,1)\n",
        "    \n",
        "    return A, W, b\n",
        "\n",
        "def linear_activation_forward_test_case():\n",
        "    \"\"\"\n",
        "    X = np.array([[-1.02387576, 1.12397796],\n",
        " [-1.62328545, 0.64667545],\n",
        " [-1.74314104, -0.59664964]])\n",
        "    W = np.array([[ 0.74505627, 1.97611078, -1.24412333]])\n",
        "    b = 5\n",
        "    \"\"\"\n",
        "    np.random.seed(2)\n",
        "    A_prev = np.random.randn(3,2)\n",
        "    W = np.random.randn(1,3)\n",
        "    b = np.random.randn(1,1)\n",
        "    return A_prev, W, b\n",
        "\n",
        "def L_model_forward_test_case():\n",
        "    \"\"\"\n",
        "    X = np.array([[-1.02387576, 1.12397796],\n",
        " [-1.62328545, 0.64667545],\n",
        " [-1.74314104, -0.59664964]])\n",
        "    parameters = {'W1': np.array([[ 1.62434536, -0.61175641, -0.52817175],\n",
        "        [-1.07296862,  0.86540763, -2.3015387 ]]),\n",
        " 'W2': np.array([[ 1.74481176, -0.7612069 ]]),\n",
        " 'b1': np.array([[ 0.],\n",
        "        [ 0.]]),\n",
        " 'b2': np.array([[ 0.]])}\n",
        "    \"\"\"\n",
        "    np.random.seed(1)\n",
        "    X = np.random.randn(4,2)\n",
        "    W1 = np.random.randn(3,4)\n",
        "    b1 = np.random.randn(3,1)\n",
        "    W2 = np.random.randn(1,3)\n",
        "    b2 = np.random.randn(1,1)\n",
        "    parameters = {\"W1\": W1,\n",
        "                  \"b1\": b1,\n",
        "                  \"W2\": W2,\n",
        "                  \"b2\": b2}\n",
        "    \n",
        "    return X, parameters\n",
        "\n",
        "def compute_cost_test_case():\n",
        "    Y = np.asarray([[1, 1, 1]])\n",
        "    aL = np.array([[.8,.9,0.4]])\n",
        "    \n",
        "    return Y, aL\n",
        "\n",
        "def linear_backward_test_case():\n",
        "    \"\"\"\n",
        "    z, linear_cache = (np.array([[-0.8019545 ,  3.85763489]]), (np.array([[-1.02387576,  1.12397796],\n",
        "       [-1.62328545,  0.64667545],\n",
        "       [-1.74314104, -0.59664964]]), np.array([[ 0.74505627,  1.97611078, -1.24412333]]), np.array([[1]]))\n",
        "    \"\"\"\n",
        "    np.random.seed(1)\n",
        "    dZ = np.random.randn(1,2)\n",
        "    A = np.random.randn(3,2)\n",
        "    W = np.random.randn(1,3)\n",
        "    b = np.random.randn(1,1)\n",
        "    linear_cache = (A, W, b)\n",
        "    return dZ, linear_cache\n",
        "\n",
        "def linear_activation_backward_test_case():\n",
        "    \"\"\"\n",
        "    aL, linear_activation_cache = (np.array([[ 3.1980455 ,  7.85763489]]), ((np.array([[-1.02387576,  1.12397796], [-1.62328545,  0.64667545], [-1.74314104, -0.59664964]]), np.array([[ 0.74505627,  1.97611078, -1.24412333]]), 5), np.array([[ 3.1980455 ,  7.85763489]])))\n",
        "    \"\"\"\n",
        "    np.random.seed(2)\n",
        "    dA = np.random.randn(1,2)\n",
        "    A = np.random.randn(3,2)\n",
        "    W = np.random.randn(1,3)\n",
        "    b = np.random.randn(1,1)\n",
        "    Z = np.random.randn(1,2)\n",
        "    linear_cache = (A, W, b)\n",
        "    activation_cache = Z\n",
        "    linear_activation_cache = (linear_cache, activation_cache)\n",
        "    \n",
        "    return dA, linear_activation_cache\n",
        "\n",
        "def L_model_backward_test_case():\n",
        "    \"\"\"\n",
        "    X = np.random.rand(3,2)\n",
        "    Y = np.array([[1, 1]])\n",
        "    parameters = {'W1': np.array([[ 1.78862847,  0.43650985,  0.09649747]]), 'b1': np.array([[ 0.]])}\n",
        "\n",
        "    aL, caches = (np.array([[ 0.60298372,  0.87182628]]), [((np.array([[ 0.20445225,  0.87811744],\n",
        "           [ 0.02738759,  0.67046751],\n",
        "           [ 0.4173048 ,  0.55868983]]),\n",
        "    np.array([[ 1.78862847,  0.43650985,  0.09649747]]),\n",
        "    np.array([[ 0.]])),\n",
        "   np.array([[ 0.41791293,  1.91720367]]))])\n",
        "   \"\"\"\n",
        "    np.random.seed(3)\n",
        "    AL = np.random.randn(1, 2)\n",
        "    Y = np.array([[1, 0]])\n",
        "\n",
        "    A1 = np.random.randn(4,2)\n",
        "    W1 = np.random.randn(3,4)\n",
        "    b1 = np.random.randn(3,1)\n",
        "    Z1 = np.random.randn(3,2)\n",
        "    linear_cache_activation_1 = ((A1, W1, b1), Z1)\n",
        "\n",
        "    A2 = np.random.randn(3,2)\n",
        "    W2 = np.random.randn(1,3)\n",
        "    b2 = np.random.randn(1,1)\n",
        "    Z2 = np.random.randn(1,2)\n",
        "    linear_cache_activation_2 = ((A2, W2, b2), Z2)\n",
        "\n",
        "    caches = (linear_cache_activation_1, linear_cache_activation_2)\n",
        "\n",
        "    return AL, Y, caches\n",
        "\n",
        "def update_parameters_test_case():\n",
        "    \"\"\"\n",
        "    parameters = {'W1': np.array([[ 1.78862847,  0.43650985,  0.09649747],\n",
        "        [-1.8634927 , -0.2773882 , -0.35475898],\n",
        "        [-0.08274148, -0.62700068, -0.04381817],\n",
        "        [-0.47721803, -1.31386475,  0.88462238]]),\n",
        " 'W2': np.array([[ 0.88131804,  1.70957306,  0.05003364, -0.40467741],\n",
        "        [-0.54535995, -1.54647732,  0.98236743, -1.10106763],\n",
        "        [-1.18504653, -0.2056499 ,  1.48614836,  0.23671627]]),\n",
        " 'W3': np.array([[-1.02378514, -0.7129932 ,  0.62524497],\n",
        "        [-0.16051336, -0.76883635, -0.23003072]]),\n",
        " 'b1': np.array([[ 0.],\n",
        "        [ 0.],\n",
        "        [ 0.],\n",
        "        [ 0.]]),\n",
        " 'b2': np.array([[ 0.],\n",
        "        [ 0.],\n",
        "        [ 0.]]),\n",
        " 'b3': np.array([[ 0.],\n",
        "        [ 0.]])}\n",
        "    grads = {'dW1': np.array([[ 0.63070583,  0.66482653,  0.18308507],\n",
        "        [ 0.        ,  0.        ,  0.        ],\n",
        "        [ 0.        ,  0.        ,  0.        ],\n",
        "        [ 0.        ,  0.        ,  0.        ]]),\n",
        " 'dW2': np.array([[ 1.62934255,  0.        ,  0.        ,  0.        ],\n",
        "        [ 0.        ,  0.        ,  0.        ,  0.        ],\n",
        "        [ 0.        ,  0.        ,  0.        ,  0.        ]]),\n",
        " 'dW3': np.array([[-1.40260776,  0.        ,  0.        ]]),\n",
        " 'da1': np.array([[ 0.70760786,  0.65063504],\n",
        "        [ 0.17268975,  0.15878569],\n",
        "        [ 0.03817582,  0.03510211]]),\n",
        " 'da2': np.array([[ 0.39561478,  0.36376198],\n",
        "        [ 0.7674101 ,  0.70562233],\n",
        "        [ 0.0224596 ,  0.02065127],\n",
        "        [-0.18165561, -0.16702967]]),\n",
        " 'da3': np.array([[ 0.44888991,  0.41274769],\n",
        "        [ 0.31261975,  0.28744927],\n",
        "        [-0.27414557, -0.25207283]]),\n",
        " 'db1': 0.75937676204411464,\n",
        " 'db2': 0.86163759922811056,\n",
        " 'db3': -0.84161956022334572}\n",
        "    \"\"\"\n",
        "    np.random.seed(2)\n",
        "    W1 = np.random.randn(3,4)\n",
        "    b1 = np.random.randn(3,1)\n",
        "    W2 = np.random.randn(1,3)\n",
        "    b2 = np.random.randn(1,1)\n",
        "    parameters = {\"W1\": W1,\n",
        "                  \"b1\": b1,\n",
        "                  \"W2\": W2,\n",
        "                  \"b2\": b2}\n",
        "    np.random.seed(3)\n",
        "    dW1 = np.random.randn(3,4)\n",
        "    db1 = np.random.randn(3,1)\n",
        "    dW2 = np.random.randn(1,3)\n",
        "    db2 = np.random.randn(1,1)\n",
        "    grads = {\"dW1\": dW1,\n",
        "             \"db1\": db1,\n",
        "             \"dW2\": dW2,\n",
        "             \"db2\": db2}\n",
        "    \n",
        "    return parameters, grads\n",
        "\n",
        "\n",
        "def L_model_forward_test_case_2hidden():\n",
        "    np.random.seed(6)\n",
        "    X = np.random.randn(5,4)\n",
        "    W1 = np.random.randn(4,5)\n",
        "    b1 = np.random.randn(4,1)\n",
        "    W2 = np.random.randn(3,4)\n",
        "    b2 = np.random.randn(3,1)\n",
        "    W3 = np.random.randn(1,3)\n",
        "    b3 = np.random.randn(1,1)\n",
        "  \n",
        "    parameters = {\"W1\": W1,\n",
        "                  \"b1\": b1,\n",
        "                  \"W2\": W2,\n",
        "                  \"b2\": b2,\n",
        "                  \"W3\": W3,\n",
        "                  \"b3\": b3}\n",
        "    \n",
        "    return X, parameters\n",
        "\n",
        "def print_grads(grads):\n",
        "    print (\"dW1 = \"+ str(grads[\"dW1\"]))\n",
        "    print (\"db1 = \"+ str(grads[\"db1\"]))\n",
        "    print (\"dA1 = \"+ str(grads[\"dA1\"])) # this is done on purpose to be consistent with lecture where we normally start with A0\n",
        "                                        # in this implementation we started with A1, hence we bump it up by 1. \n",
        "    \n"
      ],
      "metadata": {
        "id": "geu9lidJHalX"
      },
      "execution_count": 2,
      "outputs": []
    },
    {
      "cell_type": "code",
      "source": [
        "#@title testCases_v4\n",
        "import numpy as np\n",
        "\n",
        "def linear_forward_test_case():\n",
        "    np.random.seed(1)\n",
        "    \"\"\"\n",
        "    X = np.array([[-1.02387576, 1.12397796],\n",
        " [-1.62328545, 0.64667545],\n",
        " [-1.74314104, -0.59664964]])\n",
        "    W = np.array([[ 0.74505627, 1.97611078, -1.24412333]])\n",
        "    b = np.array([[1]])\n",
        "    \"\"\"\n",
        "    A = np.random.randn(3,2)\n",
        "    W = np.random.randn(1,3)\n",
        "    b = np.random.randn(1,1)\n",
        "    \n",
        "    return A, W, b\n",
        "\n",
        "def linear_activation_forward_test_case():\n",
        "    \"\"\"\n",
        "    X = np.array([[-1.02387576, 1.12397796],\n",
        " [-1.62328545, 0.64667545],\n",
        " [-1.74314104, -0.59664964]])\n",
        "    W = np.array([[ 0.74505627, 1.97611078, -1.24412333]])\n",
        "    b = 5\n",
        "    \"\"\"\n",
        "    np.random.seed(2)\n",
        "    A_prev = np.random.randn(3,2)\n",
        "    W = np.random.randn(1,3)\n",
        "    b = np.random.randn(1,1)\n",
        "    return A_prev, W, b\n",
        "\n",
        "def L_model_forward_test_case():\n",
        "    \"\"\"\n",
        "    X = np.array([[-1.02387576, 1.12397796],\n",
        " [-1.62328545, 0.64667545],\n",
        " [-1.74314104, -0.59664964]])\n",
        "    parameters = {'W1': np.array([[ 1.62434536, -0.61175641, -0.52817175],\n",
        "        [-1.07296862,  0.86540763, -2.3015387 ]]),\n",
        " 'W2': np.array([[ 1.74481176, -0.7612069 ]]),\n",
        " 'b1': np.array([[ 0.],\n",
        "        [ 0.]]),\n",
        " 'b2': np.array([[ 0.]])}\n",
        "    \"\"\"\n",
        "    np.random.seed(1)\n",
        "    X = np.random.randn(4,2)\n",
        "    W1 = np.random.randn(3,4)\n",
        "    b1 = np.random.randn(3,1)\n",
        "    W2 = np.random.randn(1,3)\n",
        "    b2 = np.random.randn(1,1)\n",
        "    parameters = {\"W1\": W1,\n",
        "                  \"b1\": b1,\n",
        "                  \"W2\": W2,\n",
        "                  \"b2\": b2}\n",
        "    \n",
        "    return X, parameters\n",
        "\n",
        "def compute_cost_test_case():\n",
        "    Y = np.asarray([[1, 1, 1]])\n",
        "    aL = np.array([[.8,.9,0.4]])\n",
        "    \n",
        "    return Y, aL\n",
        "\n",
        "def linear_backward_test_case():\n",
        "    \"\"\"\n",
        "    z, linear_cache = (np.array([[-0.8019545 ,  3.85763489]]), (np.array([[-1.02387576,  1.12397796],\n",
        "       [-1.62328545,  0.64667545],\n",
        "       [-1.74314104, -0.59664964]]), np.array([[ 0.74505627,  1.97611078, -1.24412333]]), np.array([[1]]))\n",
        "    \"\"\"\n",
        "    np.random.seed(1)\n",
        "    dZ = np.random.randn(1,2)\n",
        "    A = np.random.randn(3,2)\n",
        "    W = np.random.randn(1,3)\n",
        "    b = np.random.randn(1,1)\n",
        "    linear_cache = (A, W, b)\n",
        "    return dZ, linear_cache\n",
        "\n",
        "def linear_activation_backward_test_case():\n",
        "    \"\"\"\n",
        "    aL, linear_activation_cache = (np.array([[ 3.1980455 ,  7.85763489]]), ((np.array([[-1.02387576,  1.12397796], [-1.62328545,  0.64667545], [-1.74314104, -0.59664964]]), np.array([[ 0.74505627,  1.97611078, -1.24412333]]), 5), np.array([[ 3.1980455 ,  7.85763489]])))\n",
        "    \"\"\"\n",
        "    np.random.seed(2)\n",
        "    dA = np.random.randn(1,2)\n",
        "    A = np.random.randn(3,2)\n",
        "    W = np.random.randn(1,3)\n",
        "    b = np.random.randn(1,1)\n",
        "    Z = np.random.randn(1,2)\n",
        "    linear_cache = (A, W, b)\n",
        "    activation_cache = Z\n",
        "    linear_activation_cache = (linear_cache, activation_cache)\n",
        "    \n",
        "    return dA, linear_activation_cache\n",
        "\n",
        "def L_model_backward_test_case():\n",
        "    \"\"\"\n",
        "    X = np.random.rand(3,2)\n",
        "    Y = np.array([[1, 1]])\n",
        "    parameters = {'W1': np.array([[ 1.78862847,  0.43650985,  0.09649747]]), 'b1': np.array([[ 0.]])}\n",
        "\n",
        "    aL, caches = (np.array([[ 0.60298372,  0.87182628]]), [((np.array([[ 0.20445225,  0.87811744],\n",
        "           [ 0.02738759,  0.67046751],\n",
        "           [ 0.4173048 ,  0.55868983]]),\n",
        "    np.array([[ 1.78862847,  0.43650985,  0.09649747]]),\n",
        "    np.array([[ 0.]])),\n",
        "   np.array([[ 0.41791293,  1.91720367]]))])\n",
        "   \"\"\"\n",
        "    np.random.seed(3)\n",
        "    AL = np.random.randn(1, 2)\n",
        "    Y = np.array([[1, 0]])\n",
        "\n",
        "    A1 = np.random.randn(4,2)\n",
        "    W1 = np.random.randn(3,4)\n",
        "    b1 = np.random.randn(3,1)\n",
        "    Z1 = np.random.randn(3,2)\n",
        "    linear_cache_activation_1 = ((A1, W1, b1), Z1)\n",
        "\n",
        "    A2 = np.random.randn(3,2)\n",
        "    W2 = np.random.randn(1,3)\n",
        "    b2 = np.random.randn(1,1)\n",
        "    Z2 = np.random.randn(1,2)\n",
        "    linear_cache_activation_2 = ((A2, W2, b2), Z2)\n",
        "\n",
        "    caches = (linear_cache_activation_1, linear_cache_activation_2)\n",
        "\n",
        "    return AL, Y, caches\n",
        "\n",
        "def update_parameters_test_case():\n",
        "    \"\"\"\n",
        "    parameters = {'W1': np.array([[ 1.78862847,  0.43650985,  0.09649747],\n",
        "        [-1.8634927 , -0.2773882 , -0.35475898],\n",
        "        [-0.08274148, -0.62700068, -0.04381817],\n",
        "        [-0.47721803, -1.31386475,  0.88462238]]),\n",
        " 'W2': np.array([[ 0.88131804,  1.70957306,  0.05003364, -0.40467741],\n",
        "        [-0.54535995, -1.54647732,  0.98236743, -1.10106763],\n",
        "        [-1.18504653, -0.2056499 ,  1.48614836,  0.23671627]]),\n",
        " 'W3': np.array([[-1.02378514, -0.7129932 ,  0.62524497],\n",
        "        [-0.16051336, -0.76883635, -0.23003072]]),\n",
        " 'b1': np.array([[ 0.],\n",
        "        [ 0.],\n",
        "        [ 0.],\n",
        "        [ 0.]]),\n",
        " 'b2': np.array([[ 0.],\n",
        "        [ 0.],\n",
        "        [ 0.]]),\n",
        " 'b3': np.array([[ 0.],\n",
        "        [ 0.]])}\n",
        "    grads = {'dW1': np.array([[ 0.63070583,  0.66482653,  0.18308507],\n",
        "        [ 0.        ,  0.        ,  0.        ],\n",
        "        [ 0.        ,  0.        ,  0.        ],\n",
        "        [ 0.        ,  0.        ,  0.        ]]),\n",
        " 'dW2': np.array([[ 1.62934255,  0.        ,  0.        ,  0.        ],\n",
        "        [ 0.        ,  0.        ,  0.        ,  0.        ],\n",
        "        [ 0.        ,  0.        ,  0.        ,  0.        ]]),\n",
        " 'dW3': np.array([[-1.40260776,  0.        ,  0.        ]]),\n",
        " 'da1': np.array([[ 0.70760786,  0.65063504],\n",
        "        [ 0.17268975,  0.15878569],\n",
        "        [ 0.03817582,  0.03510211]]),\n",
        " 'da2': np.array([[ 0.39561478,  0.36376198],\n",
        "        [ 0.7674101 ,  0.70562233],\n",
        "        [ 0.0224596 ,  0.02065127],\n",
        "        [-0.18165561, -0.16702967]]),\n",
        " 'da3': np.array([[ 0.44888991,  0.41274769],\n",
        "        [ 0.31261975,  0.28744927],\n",
        "        [-0.27414557, -0.25207283]]),\n",
        " 'db1': 0.75937676204411464,\n",
        " 'db2': 0.86163759922811056,\n",
        " 'db3': -0.84161956022334572}\n",
        "    \"\"\"\n",
        "    np.random.seed(2)\n",
        "    W1 = np.random.randn(3,4)\n",
        "    b1 = np.random.randn(3,1)\n",
        "    W2 = np.random.randn(1,3)\n",
        "    b2 = np.random.randn(1,1)\n",
        "    parameters = {\"W1\": W1,\n",
        "                  \"b1\": b1,\n",
        "                  \"W2\": W2,\n",
        "                  \"b2\": b2}\n",
        "    np.random.seed(3)\n",
        "    dW1 = np.random.randn(3,4)\n",
        "    db1 = np.random.randn(3,1)\n",
        "    dW2 = np.random.randn(1,3)\n",
        "    db2 = np.random.randn(1,1)\n",
        "    grads = {\"dW1\": dW1,\n",
        "             \"db1\": db1,\n",
        "             \"dW2\": dW2,\n",
        "             \"db2\": db2}\n",
        "    \n",
        "    return parameters, grads\n",
        "\n",
        "\n",
        "def L_model_forward_test_case_2hidden():\n",
        "    np.random.seed(6)\n",
        "    X = np.random.randn(5,4)\n",
        "    W1 = np.random.randn(4,5)\n",
        "    b1 = np.random.randn(4,1)\n",
        "    W2 = np.random.randn(3,4)\n",
        "    b2 = np.random.randn(3,1)\n",
        "    W3 = np.random.randn(1,3)\n",
        "    b3 = np.random.randn(1,1)\n",
        "  \n",
        "    parameters = {\"W1\": W1,\n",
        "                  \"b1\": b1,\n",
        "                  \"W2\": W2,\n",
        "                  \"b2\": b2,\n",
        "                  \"W3\": W3,\n",
        "                  \"b3\": b3}\n",
        "    \n",
        "    return X, parameters\n",
        "\n",
        "def print_grads(grads):\n",
        "    print (\"dW1 = \"+ str(grads[\"dW1\"]))\n",
        "    print (\"db1 = \"+ str(grads[\"db1\"]))\n",
        "    print (\"dA1 = \"+ str(grads[\"dA1\"]))     \n",
        "    \n"
      ],
      "metadata": {
        "id": "EyDgvRHBHg2p"
      },
      "execution_count": 3,
      "outputs": []
    },
    {
      "cell_type": "code",
      "source": [
        "import numpy as np\n",
        "import h5py\n",
        "import matplotlib.pyplot as plt\n",
        "\n",
        "%matplotlib inline\n",
        "plt.rcParams['figure.figsize'] = (5.0, 4.0) # set default size of plots\n",
        "plt.rcParams['image.interpolation'] = 'nearest'\n",
        "plt.rcParams['image.cmap'] = 'gray'\n",
        "\n",
        "%load_ext autoreload\n",
        "%autoreload 2\n",
        "\n",
        "np.random.seed(1)"
      ],
      "metadata": {
        "id": "f2WOF6hvHjYt"
      },
      "execution_count": 4,
      "outputs": []
    },
    {
      "cell_type": "code",
      "source": [
        "def initialize_parameters(n_x,n_h,n_y):\n",
        "  np.random.seed(1)\n",
        "\n",
        "  W1 = np.random.randn(n_h,n_x)*0.001\n",
        "  b1 = np.zeros([n_h,1])\n",
        "  W2 = np.random.randn(n_y,n_h)\n",
        "  b2 = np.zeros([n_y,1])\n",
        "\n",
        "  parameters = {\n",
        "      'W1':W1,\n",
        "      'b1':b2,\n",
        "      'W2':W2,\n",
        "      'b2':b2}\n",
        "  return parameters"
      ],
      "metadata": {
        "id": "JWFitMNdIHPn"
      },
      "execution_count": 5,
      "outputs": []
    },
    {
      "cell_type": "code",
      "source": [
        "parm = initialize_parameters(3,2,1)\n",
        "print('W1= '+str(parm['W1']))"
      ],
      "metadata": {
        "colab": {
          "base_uri": "https://localhost:8080/"
        },
        "id": "rZSLAFbbIzz2",
        "outputId": "db0b1e0c-bc2e-459b-b0f7-aa2819562050"
      },
      "execution_count": 6,
      "outputs": [
        {
          "output_type": "stream",
          "name": "stdout",
          "text": [
            "W1= [[ 0.00162435 -0.00061176 -0.00052817]\n",
            " [-0.00107297  0.00086541 -0.00230154]]\n"
          ]
        }
      ]
    },
    {
      "cell_type": "code",
      "source": [
        "parameters = initialize_parameters(3,2,1)\n",
        "print(\"W1 = \" + str(parameters[\"W1\"]))\n",
        "print(\"b1 = \" + str(parameters[\"b1\"]))\n",
        "print(\"W2 = \" + str(parameters[\"W2\"]))\n",
        "print(\"b2 = \" + str(parameters[\"b2\"]))"
      ],
      "metadata": {
        "colab": {
          "base_uri": "https://localhost:8080/"
        },
        "id": "vba-Q7miJyKq",
        "outputId": "6c0a0130-45ea-4c93-a064-e68d8600412e"
      },
      "execution_count": 7,
      "outputs": [
        {
          "output_type": "stream",
          "name": "stdout",
          "text": [
            "W1 = [[ 0.00162435 -0.00061176 -0.00052817]\n",
            " [-0.00107297  0.00086541 -0.00230154]]\n",
            "b1 = [[0.]]\n",
            "W2 = [[ 1.74481176 -0.7612069 ]]\n",
            "b2 = [[0.]]\n"
          ]
        }
      ]
    },
    {
      "cell_type": "code",
      "source": [
        "def initialize_parameters_deep(layer_dims):\n",
        "  np.random.seed(42)\n",
        "  parameters = {}\n",
        "  L = len(layer_dims)\n",
        "  for l in range(1,L):\n",
        "    parameters['W' + str(l)] = np.random.randn(layer_dims[l], layer_dims[l-1]) * 0.01\n",
        "    parameters['b' + str(l)] = np.zeros([layer_dims[l],1])\n",
        "\n",
        "  return parameters"
      ],
      "metadata": {
        "id": "rEWUUVUvJ-iv"
      },
      "execution_count": 8,
      "outputs": []
    },
    {
      "cell_type": "code",
      "source": [
        "parameters = initialize_parameters_deep([5,4,3])"
      ],
      "metadata": {
        "id": "zehzI6DqQ7PE"
      },
      "execution_count": 9,
      "outputs": []
    },
    {
      "cell_type": "code",
      "source": [
        "parameters = initialize_parameters_deep([5,4,3])\n",
        "print(\"W1 = \" + str(parameters[\"W1\"]))\n",
        "print(\"b1 = \" + str(parameters[\"b1\"]))\n",
        "print(\"W2 = \" + str(parameters[\"W2\"]))\n",
        "print(\"b2 = \" + str(parameters[\"b2\"]))"
      ],
      "metadata": {
        "colab": {
          "base_uri": "https://localhost:8080/"
        },
        "id": "Q3U7C37USuSC",
        "outputId": "bb24fdb2-576e-4f26-8e0d-d0fd11bfee15"
      },
      "execution_count": 10,
      "outputs": [
        {
          "output_type": "stream",
          "name": "stdout",
          "text": [
            "W1 = [[ 0.00496714 -0.00138264  0.00647689  0.0152303  -0.00234153]\n",
            " [-0.00234137  0.01579213  0.00767435 -0.00469474  0.0054256 ]\n",
            " [-0.00463418 -0.0046573   0.00241962 -0.0191328  -0.01724918]\n",
            " [-0.00562288 -0.01012831  0.00314247 -0.00908024 -0.01412304]]\n",
            "b1 = [[0.]\n",
            " [0.]\n",
            " [0.]\n",
            " [0.]]\n",
            "W2 = [[ 0.01465649 -0.00225776  0.00067528 -0.01424748]\n",
            " [-0.00544383  0.00110923 -0.01150994  0.00375698]\n",
            " [-0.00600639 -0.00291694 -0.00601707  0.01852278]]\n",
            "b2 = [[0.]\n",
            " [0.]\n",
            " [0.]]\n"
          ]
        }
      ]
    },
    {
      "cell_type": "code",
      "source": [
        "def linear_forward(A,W,b):\n",
        "  Z = np.dot(W,A)+b\n",
        "  cache = (A,W,b)\n",
        "  return Z , cache"
      ],
      "metadata": {
        "id": "AYWYxbCXS0yI"
      },
      "execution_count": 11,
      "outputs": []
    },
    {
      "cell_type": "code",
      "source": [
        "A, W, b = linear_forward_test_case()\n",
        "\n",
        "Z, linear_cache = linear_forward(A, W, b)\n",
        "print(\"Z = \" + str(Z))"
      ],
      "metadata": {
        "colab": {
          "base_uri": "https://localhost:8080/"
        },
        "id": "1A0m2xmKbTVK",
        "outputId": "37fdf51b-7357-42b8-992d-e25f9d0ba214"
      },
      "execution_count": 12,
      "outputs": [
        {
          "output_type": "stream",
          "name": "stdout",
          "text": [
            "Z = [[ 3.26295337 -1.23429987]]\n"
          ]
        }
      ]
    },
    {
      "cell_type": "code",
      "source": [
        "def linear_activation_forward(A_prev, W, b, activation):\n",
        "#def linear_activation_forward(A_prev, W, b, activation):\n",
        "  if activation == 'sigmoid':\n",
        "    Z,linear_cache = linear_forward(A_prev,W,b)\n",
        "    A,activation_cache= sigmoid(Z)\n",
        "  elif activation=='relu':\n",
        "    Z,linear_cache= linear_forward(A_prev,W,b)\n",
        "    A,activation_cache= relu(Z)\n",
        "  cache=(linear_cache,activation_cache)\n",
        "  return A,cache"
      ],
      "metadata": {
        "id": "qHPcxhcibVv2"
      },
      "execution_count": 13,
      "outputs": []
    },
    {
      "cell_type": "code",
      "source": [
        "A_prev, W, b = linear_activation_forward_test_case()\n",
        "\n",
        "A, linear_activation_cache = linear_activation_forward(A_prev, W, b, activation = \"sigmoid\")\n",
        "print(\"With sigmoid: A = \" + str(A))\n",
        "\n",
        "A, linear_activation_cache = linear_activation_forward(A_prev, W, b, activation = \"relu\")\n",
        "print(\"With ReLU: A = \" + str(A))"
      ],
      "metadata": {
        "colab": {
          "base_uri": "https://localhost:8080/"
        },
        "id": "-eV05sJi4_yf",
        "outputId": "db088ffa-0f56-4d78-b6d2-d90dbf06d8cb"
      },
      "execution_count": 14,
      "outputs": [
        {
          "output_type": "stream",
          "name": "stdout",
          "text": [
            "With sigmoid: A = [[0.96890023 0.11013289]]\n",
            "With ReLU: A = [[3.43896131 0.        ]]\n"
          ]
        }
      ]
    },
    {
      "cell_type": "code",
      "source": [
        "def L_model_forward(X,parameters):\n",
        "  caches=[]\n",
        "  A = X\n",
        "  L = len(parameters)//2 \n",
        "  for l in range(1,L):\n",
        "    A_prev = A\n",
        "    AL,cache = linear_activation_forward(A_prev,parameters['W'+str(l)],parameters['b'+str(l)],'relu')\n",
        "    caches.append(cache)\n",
        "    return AL,caches"
      ],
      "metadata": {
        "id": "R8htr7yz6KmK"
      },
      "execution_count": 15,
      "outputs": []
    },
    {
      "cell_type": "code",
      "source": [
        "X, parameters = L_model_forward_test_case_2hidden()\n",
        "AL, caches = L_model_forward(X, parameters)\n",
        "print(\"AL = \" + str(AL))\n",
        "print(\"Length of caches list = \" + str(len(caches)))"
      ],
      "metadata": {
        "colab": {
          "base_uri": "https://localhost:8080/"
        },
        "id": "Ebcue8zB68hk",
        "outputId": "cf51fca5-1f1b-486f-faf5-a56ddaec2b8f"
      },
      "execution_count": 16,
      "outputs": [
        {
          "output_type": "stream",
          "name": "stdout",
          "text": [
            "AL = [[0.         3.18040136 0.4074501  0.        ]\n",
            " [0.         0.         3.18141623 0.        ]\n",
            " [4.18500916 0.         0.         2.72141638]\n",
            " [5.05850802 0.         0.         3.82321852]]\n",
            "Length of caches list = 1\n"
          ]
        }
      ]
    },
    {
      "cell_type": "code",
      "source": [
        "def compute_cost(Al,Y):\n",
        "  m = Y.shape[1]\n",
        "  cost = (-1/m) * np.sum( np.dot(Y, np.log(AL).T) + np.dot((1-Y), np.log(1-AL).T))\n",
        "  return cost"
      ],
      "metadata": {
        "id": "Q_pg_z4_UbU3"
      },
      "execution_count": 17,
      "outputs": []
    },
    {
      "cell_type": "code",
      "source": [
        "Y, AL = compute_cost_test_case()\n",
        "\n",
        "print(\"cost = \" + str(compute_cost(AL, Y)))"
      ],
      "metadata": {
        "colab": {
          "base_uri": "https://localhost:8080/"
        },
        "id": "h52KWHvhXTZJ",
        "outputId": "387fba0b-1f22-4fae-d2ca-43d1b4cc3850"
      },
      "execution_count": 18,
      "outputs": [
        {
          "output_type": "stream",
          "name": "stdout",
          "text": [
            "cost = 0.41493159961539694\n"
          ]
        }
      ]
    },
    {
      "cell_type": "code",
      "source": [
        "def linear_backward(dz,cache):\n",
        "  A_prev,W,b = cache\n",
        "  m = A_prev.shape[1]\n",
        "  dW = 1/m * np.dot(dZ, A_prev.T)\n",
        "  db = np.sum(dZ, axis=1, keepdims=True)/m\n",
        "  dA_prev = np.dot(W.T, dZ)\n",
        "\n",
        "  return dA_prev,dW,db"
      ],
      "metadata": {
        "id": "E37i_zYWXbb_"
      },
      "execution_count": 19,
      "outputs": []
    },
    {
      "cell_type": "code",
      "source": [
        "# Set up some test inputs\n",
        "dZ, linear_cache = linear_backward_test_case()\n",
        "\n",
        "dA_prev, dW, db = linear_backward(dZ, linear_cache)\n",
        "print (\"dA_prev = \"+ str(dA_prev))\n",
        "print (\"dW = \" + str(dW))\n",
        "print (\"db = \" + str(db))"
      ],
      "metadata": {
        "colab": {
          "base_uri": "https://localhost:8080/"
        },
        "id": "7G--YkwHhDlY",
        "outputId": "e0dcd49f-33bb-40fd-8bad-82823535069b"
      },
      "execution_count": 20,
      "outputs": [
        {
          "output_type": "stream",
          "name": "stdout",
          "text": [
            "dA_prev = [[ 0.51822968 -0.19517421]\n",
            " [-0.40506361  0.15255393]\n",
            " [ 2.37496825 -0.89445391]]\n",
            "dW = [[-0.10076895  1.40685096  1.64992505]]\n",
            "db = [[0.50629448]]\n"
          ]
        }
      ]
    },
    {
      "cell_type": "code",
      "source": [
        "def linear_activation_backward(dA,cache,activation):\n",
        "  linear_cache,activation_cache =cache\n",
        "  if activation == 'relu':\n",
        "    dZ = relu_backward(dA,activation_cache)\n",
        "    dA_prev, dW, db = linear_backward(dZ,linear_cache)\n",
        "  elif activation =='sigmoid':\n",
        "    dZ = sigmoid_backward(dA,activation_cache)\n",
        "    dA_prev, dW, db = linear_backward(dZ,linear_cache)\n",
        "  return dA_prev,dW,db\n",
        "\n"
      ],
      "metadata": {
        "id": "XBpw6NB6hGlH"
      },
      "execution_count": 21,
      "outputs": []
    },
    {
      "cell_type": "code",
      "source": [
        "dAL, linear_activation_cache = linear_activation_backward_test_case()\n",
        "\n",
        "dA_prev, dW, db = linear_activation_backward(dAL, linear_activation_cache, activation = \"sigmoid\")\n",
        "print (\"sigmoid:\")\n",
        "print (\"dA_prev = \"+ str(dA_prev))\n",
        "print (\"dW = \" + str(dW))\n",
        "print (\"db = \" + str(db) + \"\\n\")\n",
        "\n",
        "dA_prev, dW, db = linear_activation_backward(dAL, linear_activation_cache, activation = \"relu\")\n",
        "print (\"relu:\")\n",
        "print (\"dA_prev = \"+ str(dA_prev))\n",
        "print (\"dW = \" + str(dW))\n",
        "print (\"db = \" + str(db))"
      ],
      "metadata": {
        "id": "vtjoicVlLgw4",
        "outputId": "7e90e6f0-66f6-4167-a4f4-7a26c0a77df9",
        "colab": {
          "base_uri": "https://localhost:8080/"
        }
      },
      "execution_count": 22,
      "outputs": [
        {
          "output_type": "stream",
          "name": "stdout",
          "text": [
            "sigmoid:\n",
            "dA_prev = [[-1.71847978  0.64720906]\n",
            " [-1.4765423   0.55609124]\n",
            " [ 0.89575182 -0.33735555]]\n",
            "dW = [[-2.23668321 -1.19910721  0.78933304]]\n",
            "db = [[0.50629448]]\n",
            "\n",
            "relu:\n",
            "dA_prev = [[-1.71847978  0.64720906]\n",
            " [-1.4765423   0.55609124]\n",
            " [ 0.89575182 -0.33735555]]\n",
            "dW = [[-2.23668321 -1.19910721  0.78933304]]\n",
            "db = [[0.50629448]]\n"
          ]
        }
      ]
    },
    {
      "cell_type": "code",
      "source": [
        "def L_model_backward(AL,Y,caches):\n",
        "  grads = {}\n",
        "  L = len(caches)\n",
        "  m = AL.shape[1]\n",
        "  Y = Y.reshape(AL.shape)\n",
        "\n",
        "  current_cache = caches[L-1]\n",
        "  grads[\"dA\" + str(L)], grads[\"dW\" + str(L)], grads[\"db\" + str(L)] = linear_activation_backward(dAL, current_cache, \"sigmoid\")\n",
        "  \n",
        "  for l in reversed(range(L-1)):\n",
        "    current_cache = caches[L-1]\n",
        "    dA_prev_temp, dW_temp, db_temp = linear_activation_backward(grads[\"dA\" + str(l + 2)], current_cache, \"relu\")\n",
        "    grads[\"dA\" + str(l + 1)] = dA_prev_temp\n",
        "    grads[\"dW\" + str(l + 1)] = dW_temp\n",
        "    grads[\"db\" + str(l + 1)] = db_temp\n",
        "\n",
        "  return grads"
      ],
      "metadata": {
        "id": "rCzzLM_RMYmL"
      },
      "execution_count": 23,
      "outputs": []
    },
    {
      "cell_type": "markdown",
      "source": [
        ""
      ],
      "metadata": {
        "id": "SbyUWZexRwb-"
      }
    },
    {
      "cell_type": "code",
      "source": [
        "l = [1,2,3,4,5]\n",
        "print(sum(l))"
      ],
      "metadata": {
        "id": "CQxdKgfWOxb3",
        "outputId": "000319c9-3e61-497e-aca2-944d42ccb86a",
        "colab": {
          "base_uri": "https://localhost:8080/"
        }
      },
      "execution_count": 26,
      "outputs": [
        {
          "output_type": "stream",
          "name": "stdout",
          "text": [
            "15\n"
          ]
        }
      ]
    },
    {
      "cell_type": "code",
      "source": [
        "print(len(parameters)//2)"
      ],
      "metadata": {
        "id": "Zee0_X6YOxXX",
        "colab": {
          "base_uri": "https://localhost:8080/"
        },
        "outputId": "6b9247d5-1f35-4f5a-aa31-f147ecca6046"
      },
      "execution_count": 29,
      "outputs": [
        {
          "output_type": "stream",
          "name": "stdout",
          "text": [
            "3\n"
          ]
        }
      ]
    },
    {
      "cell_type": "code",
      "source": [
        "print(parameters)"
      ],
      "metadata": {
        "id": "d16bMnV2OxUm",
        "colab": {
          "base_uri": "https://localhost:8080/"
        },
        "outputId": "6855cb16-64d2-420f-96f8-6a7256465d0d"
      },
      "execution_count": 28,
      "outputs": [
        {
          "output_type": "stream",
          "name": "stdout",
          "text": [
            "{'W1': array([[ 0.35480861,  1.81259031, -1.3564758 , -0.46363197,  0.82465384],\n",
            "       [-1.17643148,  1.56448966,  0.71270509, -0.1810066 ,  0.53419953],\n",
            "       [-0.58661296, -1.48185327,  0.85724762,  0.94309899,  0.11444143],\n",
            "       [-0.02195668, -2.12714455, -0.83440747, -0.46550831,  0.23371059]]), 'b1': array([[ 1.38503523],\n",
            "       [-0.51962709],\n",
            "       [-0.78015214],\n",
            "       [ 0.95560959]]), 'W2': array([[-0.12673638, -1.36861282,  1.21848065, -0.85750144],\n",
            "       [-0.56147088, -1.0335199 ,  0.35877096,  1.07368134],\n",
            "       [-0.37550472,  0.39636757, -0.47144628,  2.33660781]]), 'b2': array([[ 1.50278553],\n",
            "       [-0.59545972],\n",
            "       [ 0.52834106]]), 'W3': array([[ 0.9398248 ,  0.42628539, -0.75815703]]), 'b3': array([[-0.16236698]])}\n"
          ]
        }
      ]
    },
    {
      "cell_type": "code",
      "source": [
        "print(parameters['W1'].shape)"
      ],
      "metadata": {
        "colab": {
          "base_uri": "https://localhost:8080/"
        },
        "id": "QFYOUY9Fj4sK",
        "outputId": "05c3b5da-74e9-49bd-c26e-c70772080408"
      },
      "execution_count": 31,
      "outputs": [
        {
          "output_type": "stream",
          "name": "stdout",
          "text": [
            "(4, 5)\n"
          ]
        }
      ]
    },
    {
      "cell_type": "code",
      "source": [
        "print(parameters['b1'].shape)"
      ],
      "metadata": {
        "colab": {
          "base_uri": "https://localhost:8080/"
        },
        "id": "Qzri_f7XngI1",
        "outputId": "5e18764e-bc0d-4394-9908-b7a83b25fe8e"
      },
      "execution_count": 32,
      "outputs": [
        {
          "output_type": "stream",
          "name": "stdout",
          "text": [
            "(4, 1)\n"
          ]
        }
      ]
    },
    {
      "cell_type": "code",
      "source": [
        "print(parameters['W2'].shape)"
      ],
      "metadata": {
        "colab": {
          "base_uri": "https://localhost:8080/"
        },
        "id": "HoDvRjE7nzvQ",
        "outputId": "92008fe6-20f2-4c06-916c-995d76c16c0a"
      },
      "execution_count": 33,
      "outputs": [
        {
          "output_type": "stream",
          "name": "stdout",
          "text": [
            "(3, 4)\n"
          ]
        }
      ]
    },
    {
      "cell_type": "code",
      "source": [
        "print(parameters['W3'].shape)"
      ],
      "metadata": {
        "id": "Aaak8BhVrIBm",
        "outputId": "f9337474-230e-45cb-c16c-11b238159363",
        "colab": {
          "base_uri": "https://localhost:8080/"
        }
      },
      "execution_count": 34,
      "outputs": [
        {
          "output_type": "stream",
          "name": "stdout",
          "text": [
            "(1, 3)\n"
          ]
        }
      ]
    },
    {
      "cell_type": "code",
      "source": [
        "print(len(caches))"
      ],
      "metadata": {
        "id": "ZtzLdG2hrNCk",
        "outputId": "647e5672-95f3-45e8-83fe-3f8259d6f142",
        "colab": {
          "base_uri": "https://localhost:8080/"
        }
      },
      "execution_count": 39,
      "outputs": [
        {
          "output_type": "stream",
          "name": "stdout",
          "text": [
            "2\n"
          ]
        }
      ]
    },
    {
      "cell_type": "code",
      "source": [
        "print(A)\n",
        "print(len(A))"
      ],
      "metadata": {
        "id": "hRzbbGXZufME",
        "outputId": "aa1407bb-5827-4d3f-84a0-870e1a280c06",
        "colab": {
          "base_uri": "https://localhost:8080/"
        }
      },
      "execution_count": 42,
      "outputs": [
        {
          "output_type": "stream",
          "name": "stdout",
          "text": [
            "[[3.43896131 0.        ]]\n",
            "1\n"
          ]
        }
      ]
    },
    {
      "cell_type": "code",
      "source": [
        "print(caches)"
      ],
      "metadata": {
        "id": "KA1ZIpGgvcvO",
        "outputId": "3111f152-5190-45fb-86bd-6ce92dd3a41f",
        "colab": {
          "base_uri": "https://localhost:8080/"
        }
      },
      "execution_count": 43,
      "outputs": [
        {
          "output_type": "stream",
          "name": "stdout",
          "text": [
            "(((array([[ 0.09649747, -1.8634927 ],\n",
            "       [-0.2773882 , -0.35475898],\n",
            "       [-0.08274148, -0.62700068],\n",
            "       [-0.04381817, -0.47721803]]), array([[-1.31386475,  0.88462238,  0.88131804,  1.70957306],\n",
            "       [ 0.05003364, -0.40467741, -0.54535995, -1.54647732],\n",
            "       [ 0.98236743, -1.10106763, -1.18504653, -0.2056499 ]]), array([[ 1.48614836],\n",
            "       [ 0.23671627],\n",
            "       [-1.02378514]])), array([[-0.7129932 ,  0.62524497],\n",
            "       [-0.16051336, -0.76883635],\n",
            "       [-0.23003072,  0.74505627]])), ((array([[ 1.97611078, -1.24412333],\n",
            "       [-0.62641691, -0.80376609],\n",
            "       [-2.41908317, -0.92379202]]), array([[-1.02387576,  1.12397796, -0.13191423]]), array([[-1.62328545]])), array([[ 0.64667545, -0.35627076]])))\n"
          ]
        }
      ]
    },
    {
      "cell_type": "code",
      "source": [
        ""
      ],
      "metadata": {
        "id": "HqQDj9P2wqLV"
      },
      "execution_count": null,
      "outputs": []
    }
  ]
}